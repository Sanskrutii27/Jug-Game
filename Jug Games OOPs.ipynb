{
 "cells": [
  {
   "cell_type": "code",
   "execution_count": 1,
   "metadata": {
    "executionInfo": {
     "elapsed": 388,
     "status": "ok",
     "timestamp": 1661946653290,
     "user": {
      "displayName": "Mahesh Mulay",
      "userId": "09202131138552867487"
     },
     "user_tz": -330
    },
    "id": "P7tjKZzqtRYL"
   },
   "outputs": [],
   "source": [
    "class Gar:\n",
    "  def __init__(self, name, vol):\n",
    "    self.name = name\n",
    "    self.vol = vol\n",
    "    self.water = 0\n",
    "  \n",
    "  def fill(self):\n",
    "    self.water = self.vol\n",
    "    return self.water\n",
    "\n",
    "  def empty(self):\n",
    "    self.water = 0\n",
    "    return self.water\n",
    "\n",
    "  def isempty(self):\n",
    "    if self.water == 0:\n",
    "      return True\n",
    "    else:\n",
    "      return False\n",
    "\n",
    "  def isfull(self):\n",
    "    if self.water == self.vol:\n",
    "      return True\n",
    "    else:\n",
    "      return False\n",
    "\n",
    "  def can_store(self):\n",
    "    space = 0\n",
    "    space = self.vol - self.water\n",
    "    return space\n",
    "\n",
    "  def display(self):\n",
    "    print(f'jar name:- {self.name}')\n",
    "    print(f'jar volume:- {self.vol}')\n",
    "    print(f'is empty:- {self.isempty()}')\n",
    "    print(f\"water in {self.name}:- {self.water}\")"
   ]
  },
  {
   "cell_type": "code",
   "execution_count": 2,
   "metadata": {
    "executionInfo": {
     "elapsed": 3,
     "status": "ok",
     "timestamp": 1661946656304,
     "user": {
      "displayName": "Mahesh Mulay",
      "userId": "09202131138552867487"
     },
     "user_tz": -330
    },
    "id": "stoTtDK1vc6T"
   },
   "outputs": [],
   "source": [
    "def transfer(from_jar, to_jar):\n",
    "  if (not from_jar.isempty()) and (not to_jar.isfull()):\n",
    "    if (from_jar.water < to_jar.can_store()):\n",
    "      to_jar.water += from_jar.water\n",
    "      from_jar.water = 0\n",
    "    else:\n",
    "      from_jar.water -= to_jar.can_store()\n",
    "      to_jar.water += to_jar.can_store()\n",
    "    print(f'water in {from_jar.name} is:- {from_jar.water}')\n",
    "    print(f'water in {to_jar.name} is:- {to_jar.water}')\n",
    "  else:\n",
    "    print('cannot transfer water from jars')"
   ]
  },
  {
   "cell_type": "code",
   "execution_count": 3,
   "metadata": {
    "executionInfo": {
     "elapsed": 616,
     "status": "ok",
     "timestamp": 1661946659492,
     "user": {
      "displayName": "Mahesh Mulay",
      "userId": "09202131138552867487"
     },
     "user_tz": -330
    },
    "id": "URZ0WqnJ2Hnd"
   },
   "outputs": [],
   "source": [
    "#main method here\n",
    "def main():\n",
    "  #lets display menu:{\n",
    "  cap_of_jar_a = int(input(\"\\t  Enter capacity of jar A:- \"))\n",
    "  cap_of_jar_b = int(input(\"\\t  Enter capacity of jar B:- \"))\n",
    "  jar_a = Gar(f'{cap_of_jar_a}-lit', cap_of_jar_a)\n",
    "  jar_b = Gar(f'{cap_of_jar_b}-lit', cap_of_jar_b)\n",
    "  target = int(input('\\t  How many liters you want to mesure:- '))\n",
    "  #Game loop\n",
    "  while True:\n",
    "    print(f\"\"\"------------------------------------------------\n",
    "          1. Fill {jar_a.name}\n",
    "          2. Fill {jar_b.name}\n",
    "          3. Empty {jar_a.name}\n",
    "          4. Empty {jar_b.name}\n",
    "          5. Transfer {jar_a.name} to {jar_b.name}\n",
    "          6. Transfer {jar_b.name} to {jar_a.name}\n",
    "          7. To Exit out\n",
    "          \"\"\")\n",
    "    user_choice = int(input(\"Enter choice:- \"))\n",
    "    if user_choice in range(1, 8):\n",
    "      if user_choice == 1:\n",
    "        print(f'{jar_a.name} has been filled')\n",
    "        jar_a.fill()\n",
    "      elif user_choice == 2:\n",
    "        print(f\"{jar_b.name} has been filled\")\n",
    "        jar_b.fill()\n",
    "      elif user_choice == 3:\n",
    "        print(f\"{jar_a.name} is empty now.\")\n",
    "        jar_a.empty()\n",
    "      elif user_choice == 4:\n",
    "        print(f\"{jar_b.name} is empty now.\")\n",
    "        jar_b.empty()\n",
    "      elif user_choice == 5:\n",
    "        transfer(jar_a, jar_b)\n",
    "      elif user_choice == 6:\n",
    "        transfer(jar_b, jar_a)\n",
    "      else:\n",
    "        break\n",
    "    else:\n",
    "      print('invalid choice!!!!!!!')\n",
    "    #win-condition\n",
    "    if (jar_a.water == target) or (jar_b.water == target):\n",
    "      print('You Won!!!!!!!!!!!!')\n",
    "      break"
   ]
  },
  {
   "cell_type": "code",
   "execution_count": 22,
   "metadata": {
    "colab": {
     "base_uri": "https://localhost:8080/"
    },
    "executionInfo": {
     "elapsed": 47779,
     "status": "ok",
     "timestamp": 1661946711922,
     "user": {
      "displayName": "Mahesh Mulay",
      "userId": "09202131138552867487"
     },
     "user_tz": -330
    },
    "id": "k0iyo0eo3UNa",
    "outputId": "75d80771-3802-4414-ee05-1c8b4c76b6f7"
   },
   "outputs": [
    {
     "name": "stdout",
     "output_type": "stream",
     "text": [
      "\t  Enter capacity of jar A:- 3\n",
      "\t  Enter capacity of jar B:- 5\n",
      "\t  How many liters you want to mesure:- 4\n",
      "------------------------------------------------\n",
      "          1. Fill 3-lit\n",
      "          2. Fill 5-lit\n",
      "          3. Empty 3-lit\n",
      "          4. Empty 5-lit\n",
      "          5. Transfer 3-lit to 5-lit\n",
      "          6. Transfer 5-lit to 3-lit\n",
      "          7. To Exit out\n",
      "          \n",
      "Enter choice:- 2\n",
      "5-lit has been filled\n",
      "------------------------------------------------\n",
      "          1. Fill 3-lit\n",
      "          2. Fill 5-lit\n",
      "          3. Empty 3-lit\n",
      "          4. Empty 5-lit\n",
      "          5. Transfer 3-lit to 5-lit\n",
      "          6. Transfer 5-lit to 3-lit\n",
      "          7. To Exit out\n",
      "          \n",
      "Enter choice:- 5\n",
      "cannot transfer water from jars\n",
      "------------------------------------------------\n",
      "          1. Fill 3-lit\n",
      "          2. Fill 5-lit\n",
      "          3. Empty 3-lit\n",
      "          4. Empty 5-lit\n",
      "          5. Transfer 3-lit to 5-lit\n",
      "          6. Transfer 5-lit to 3-lit\n",
      "          7. To Exit out\n",
      "          \n",
      "Enter choice:- 6\n",
      "water in 5-lit is:- 2\n",
      "water in 3-lit is:- 3\n",
      "------------------------------------------------\n",
      "          1. Fill 3-lit\n",
      "          2. Fill 5-lit\n",
      "          3. Empty 3-lit\n",
      "          4. Empty 5-lit\n",
      "          5. Transfer 3-lit to 5-lit\n",
      "          6. Transfer 5-lit to 3-lit\n",
      "          7. To Exit out\n",
      "          \n",
      "Enter choice:- 3\n",
      "3-lit is empty now.\n",
      "------------------------------------------------\n",
      "          1. Fill 3-lit\n",
      "          2. Fill 5-lit\n",
      "          3. Empty 3-lit\n",
      "          4. Empty 5-lit\n",
      "          5. Transfer 3-lit to 5-lit\n",
      "          6. Transfer 5-lit to 3-lit\n",
      "          7. To Exit out\n",
      "          \n",
      "Enter choice:- 6\n",
      "water in 5-lit is:- 0\n",
      "water in 3-lit is:- 2\n",
      "------------------------------------------------\n",
      "          1. Fill 3-lit\n",
      "          2. Fill 5-lit\n",
      "          3. Empty 3-lit\n",
      "          4. Empty 5-lit\n",
      "          5. Transfer 3-lit to 5-lit\n",
      "          6. Transfer 5-lit to 3-lit\n",
      "          7. To Exit out\n",
      "          \n",
      "Enter choice:- 2\n",
      "5-lit has been filled\n",
      "------------------------------------------------\n",
      "          1. Fill 3-lit\n",
      "          2. Fill 5-lit\n",
      "          3. Empty 3-lit\n",
      "          4. Empty 5-lit\n",
      "          5. Transfer 3-lit to 5-lit\n",
      "          6. Transfer 5-lit to 3-lit\n",
      "          7. To Exit out\n",
      "          \n",
      "Enter choice:- 6\n",
      "water in 5-lit is:- 4\n",
      "water in 3-lit is:- 3\n",
      "You Won!!!!!!!!!!!!\n"
     ]
    }
   ],
   "source": [
    "main()"
   ]
  }
 ],
 "metadata": {
  "colab": {
   "authorship_tag": "ABX9TyP4NSctD0Hi+zvCSIQWFBV7",
   "collapsed_sections": [],
   "name": "Games.ipynb",
   "provenance": []
  },
  "kernelspec": {
   "display_name": "Python 3",
   "language": "python",
   "name": "python3"
  },
  "language_info": {
   "codemirror_mode": {
    "name": "ipython",
    "version": 3
   },
   "file_extension": ".py",
   "mimetype": "text/x-python",
   "name": "python",
   "nbconvert_exporter": "python",
   "pygments_lexer": "ipython3",
   "version": "3.8.8"
  }
 },
 "nbformat": 4,
 "nbformat_minor": 1
}
